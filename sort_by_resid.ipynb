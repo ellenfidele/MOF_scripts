{
 "cells": [
  {
   "cell_type": "code",
   "execution_count": 130,
   "metadata": {},
   "outputs": [],
   "source": [
    "import numpy as np\n",
    "import networkx as nx\n",
    "import pandas as pd\n",
    "import biopandas.pdb as ppdb"
   ]
  },
  {
   "cell_type": "code",
   "execution_count": 131,
   "metadata": {},
   "outputs": [],
   "source": [
    "input_pdb = \"../UFF/3x3x6_unitcells.pdb\"\n",
    "output_pdb = \"../UFF/3x3x6_unitcells.new_resid.pdb\"\n",
    "id_map = '../UFF/old_to_new.3x3x6_unitcells.txt'"
   ]
  },
  {
   "cell_type": "code",
   "execution_count": 132,
   "metadata": {},
   "outputs": [],
   "source": [
    "pdb = ppdb.PandasPdb()\n",
    "pdb.read_pdb(input_pdb)\n",
    "d_coords = pdb.df['ATOM']"
   ]
  },
  {
   "cell_type": "code",
   "execution_count": 133,
   "metadata": {},
   "outputs": [],
   "source": [
    "d_connect = pdb.df['OTHERS'].iloc[1:-1, :-1]"
   ]
  },
  {
   "cell_type": "code",
   "execution_count": 134,
   "metadata": {},
   "outputs": [],
   "source": [
    "coords = d_coords[['x_coord','y_coord', 'z_coord']].values"
   ]
  },
  {
   "cell_type": "code",
   "execution_count": 135,
   "metadata": {},
   "outputs": [],
   "source": [
    "G = nx.Graph()"
   ]
  },
  {
   "cell_type": "code",
   "execution_count": 136,
   "metadata": {},
   "outputs": [],
   "source": [
    "dist = np.sqrt(np.sum((coords[:,None,:]-coords[None,:,:])**2,axis=2))"
   ]
  },
  {
   "cell_type": "code",
   "execution_count": 137,
   "metadata": {},
   "outputs": [],
   "source": [
    "for i in range(len(coords)):\n",
    "    for j in range(i,len(coords)):\n",
    "        if dist[i,j]<1.8:\n",
    "            G.add_edge(i+1,j+1)"
   ]
  },
  {
   "cell_type": "code",
   "execution_count": 138,
   "metadata": {},
   "outputs": [],
   "source": [
    "d_coords.insert(loc=1,column='new_atom_number',value=0)"
   ]
  },
  {
   "cell_type": "code",
   "execution_count": 139,
   "metadata": {},
   "outputs": [],
   "source": [
    "resid = 1\n",
    "for group in nx.connected_components(G):\n",
    "#     print(group)\n",
    "    for item in group:\n",
    "        d_coords.loc[d_coords.atom_number==item, 'residue_number'] = int(resid)\n",
    "        d_coords.loc[d_coords.atom_number==item, 'residue_name'] = 'MOF'\n",
    "    resid += 1"
   ]
  },
  {
   "cell_type": "code",
   "execution_count": 140,
   "metadata": {},
   "outputs": [],
   "source": [
    "d_coords = d_coords.astype({'residue_number': 'int'})"
   ]
  },
  {
   "cell_type": "code",
   "execution_count": 141,
   "metadata": {
    "scrolled": true
   },
   "outputs": [],
   "source": [
    "d_coords_sorted = d_coords.sort_values(by=['residue_number', 'atom_name'])\n",
    "d_coords_sorted.new_atom_number = d_coords_sorted.reset_index(drop=True).index + 1\n"
   ]
  },
  {
   "cell_type": "code",
   "execution_count": 142,
   "metadata": {},
   "outputs": [],
   "source": [
    "with open(id_map,'w') as mapfile:\n",
    "#     mapfile.write('old_atom_number\\tnew_atom_number\\n')\n",
    "    idmap =  d_coords_sorted[['atom_number', 'new_atom_number']].values\n",
    "    np.savetxt(mapfile, idmap, header='old_atom_number\\tnew_atom_number\\n', fmt='%d')"
   ]
  },
  {
   "cell_type": "code",
   "execution_count": 143,
   "metadata": {},
   "outputs": [],
   "source": [
    "d_coords_sorted_cleaned = d_coords_sorted.drop(columns=['atom_number','blank_1', 'blank_2',\n",
    "                                               'blank_3', 'blank_4', 'segment_id', 'line_idx']).reset_index(drop=True).fillna('')"
   ]
  },
  {
   "cell_type": "code",
   "execution_count": 144,
   "metadata": {},
   "outputs": [
    {
     "name": "stdout",
     "output_type": "stream",
     "text": [
      "6\n"
     ]
    }
   ],
   "source": [
    "# get the max len of CONECT section\n",
    "len_of_con = [len(d_connect['entry'].values[i].split()) for i in range(d_connect.shape[0])]\n",
    "print(\"CONECT max len: %d\" %max(len_of_con))"
   ]
  },
  {
   "cell_type": "code",
   "execution_count": 145,
   "metadata": {},
   "outputs": [],
   "source": [
    "# Insert columns to CONECT section \n",
    "d_connect[['0','1','2','3','4', '5', '6']]=pd.DataFrame([['','','','','', '', '']], index=d_connect.index)"
   ]
  },
  {
   "cell_type": "code",
   "execution_count": 146,
   "metadata": {
    "scrolled": true
   },
   "outputs": [],
   "source": [
    "# assign the values into corresponding column\n",
    "for ind, row in d_connect.iterrows():\n",
    "    val = d_connect['entry'].values[ind-1].split()\n",
    "#     print(val)\n",
    "    for i in range(7):\n",
    "        if i<len(val):\n",
    "            d_connect.loc[ind]['%d' %i]=val[i]\n",
    "        else:\n",
    "            d_connect.loc[ind]['%d' %i]=''\n"
   ]
  },
  {
   "cell_type": "code",
   "execution_count": 147,
   "metadata": {},
   "outputs": [],
   "source": [
    "# construct a map file for replacing the old atom_number with the new\n",
    "map_dict = {}\n",
    "with open(id_map,'r') as m:\n",
    "    for line in m:\n",
    "        if not line.startswith('#'):\n",
    "            (key,val) = line.split()\n",
    "            map_dict[key] = val"
   ]
  },
  {
   "cell_type": "code",
   "execution_count": 148,
   "metadata": {},
   "outputs": [],
   "source": [
    "# do the replacement\n",
    "d_connect_new = d_connect.replace(map_dict)"
   ]
  },
  {
   "cell_type": "code",
   "execution_count": 149,
   "metadata": {},
   "outputs": [],
   "source": [
    "d_connect_new_clean = d_connect_new.drop(columns=['entry'])"
   ]
  },
  {
   "cell_type": "code",
   "execution_count": 150,
   "metadata": {},
   "outputs": [],
   "source": [
    "with open(output_pdb,'w') as out:\n",
    "    for ind, row in d_coords_sorted_cleaned.iterrows():\n",
    "#         print(row)\n",
    "        print(\"{:6s}{:5d} {:^4s}{:1s}{:3s} {:1s}{:>4d}{:1s}   {:8.3f}{:8.3f}{:8.3f}{:6.2f}{:6.2f}          {:>2s}{:2s}\".format(*row), file=out)\n",
    "    for ind, row in d_connect_new_clean.iterrows():\n",
    "        print(\"{:7s}{:7s}{:7s}{:7s}{:7s}{:7s}{:7s}\".format(*row), file=out)\n",
    "    print(\"END\",file=out)\n"
   ]
  },
  {
   "cell_type": "code",
   "execution_count": null,
   "metadata": {},
   "outputs": [],
   "source": []
  }
 ],
 "metadata": {
  "kernelspec": {
   "display_name": "Python 3",
   "language": "python",
   "name": "python3"
  },
  "language_info": {
   "codemirror_mode": {
    "name": "ipython",
    "version": 3
   },
   "file_extension": ".py",
   "mimetype": "text/x-python",
   "name": "python",
   "nbconvert_exporter": "python",
   "pygments_lexer": "ipython3",
   "version": "3.6.8"
  }
 },
 "nbformat": 4,
 "nbformat_minor": 2
}
