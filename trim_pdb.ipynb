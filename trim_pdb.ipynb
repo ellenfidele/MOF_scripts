{
 "cells": [
  {
   "cell_type": "code",
   "execution_count": null,
   "metadata": {},
   "outputs": [],
   "source": [
    "import numpy as np\n",
    "import networkx as nx\n",
    "import pandas as pd\n",
    "import biopandas.pdb as ppdb\n",
    "import itertools as it\n",
    "import scipy.spatial.distance as sp"
   ]
  },
  {
   "cell_type": "code",
   "execution_count": null,
   "metadata": {},
   "outputs": [],
   "source": [
    "input_pdb = \"../UFF_params/two_layers.adj.pdb\"\n",
    "output_pdb = '../UFF_params/two_layess.new_resid.pdb'\n",
    "\n",
    "# basic vectors of box\n",
    "v1 = np.array([26.0261, 0.0, 0.0])\n",
    "v2 = np.array([-13.0130, 22.5392, 0.0])\n",
    "v3 = np.array([0.0, 0.0, 6.7587])"
   ]
  },
  {
   "cell_type": "markdown",
   "metadata": {},
   "source": [
    "Read pdb file"
   ]
  },
  {
   "cell_type": "code",
   "execution_count": null,
   "metadata": {},
   "outputs": [],
   "source": [
    "pdbin = ppdb.PandasPdb()\n",
    "pdbin.read_pdb(input_pdb)"
   ]
  },
  {
   "cell_type": "code",
   "execution_count": null,
   "metadata": {},
   "outputs": [],
   "source": [
    "d_coords = pdbin.df['ATOM']"
   ]
  },
  {
   "cell_type": "markdown",
   "metadata": {},
   "source": [
    "Check if atoms are in the box"
   ]
  },
  {
   "cell_type": "code",
   "execution_count": null,
   "metadata": {
    "scrolled": true
   },
   "outputs": [],
   "source": [
    "A = np.array([v1, v2, v3])\n",
    "\n",
    "out_of_box_df = pd.DataFrame(columns=d_coords.columns)\n",
    "out_list = []\n",
    "for i,n in d_coords.iterrows():\n",
    "    p = np.array([n['x_coord'], n['y_coord'], n['z_coord']])\n",
    "    Y = np.dot(np.linalg.inv(A.T), p)\n",
    "    if max(Y) > 1 or min(Y) <= 0:\n",
    "        out_of_box_df = out_of_box_df.append(d_coords.iloc[i])\n",
    "        out_list.append(i)"
   ]
  },
  {
   "cell_type": "code",
   "execution_count": null,
   "metadata": {
    "scrolled": true
   },
   "outputs": [],
   "source": [
    "d_coords = d_coords.drop(out_list)"
   ]
  },
  {
   "cell_type": "code",
   "execution_count": null,
   "metadata": {},
   "outputs": [],
   "source": [
    "d_coords_cleaned = d_coords.drop(columns=['blank_1', 'blank_2',\n",
    "                                               'blank_3', 'blank_4', 'segment_id', 'line_idx']).reset_index(drop=True).fillna('')"
   ]
  },
  {
   "cell_type": "code",
   "execution_count": null,
   "metadata": {},
   "outputs": [],
   "source": [
    "with open(output_pdb,'w') as out:\n",
    "    for ind, row in d_coords_cleaned.iterrows():\n",
    "#         print(row)\n",
    "        print(\"{:6s}{:5d} {:^4s}{:1s}{:3s} {:1s}{:>4d}{:1s}   {:8.3f}{:8.3f}{:8.3f}{:6.2f}{:6.2f}          {:>2s}{:2s}\".format(*row), file=out)\n",
    "    print(\"END\",file=out)"
   ]
  },
  {
   "cell_type": "code",
   "execution_count": null,
   "metadata": {},
   "outputs": [],
   "source": []
  }
 ],
 "metadata": {
  "kernelspec": {
   "display_name": "Python 3",
   "language": "python",
   "name": "python3"
  },
  "language_info": {
   "codemirror_mode": {
    "name": "ipython",
    "version": 3
   },
   "file_extension": ".py",
   "mimetype": "text/x-python",
   "name": "python",
   "nbconvert_exporter": "python",
   "pygments_lexer": "ipython3",
   "version": "3.6.8"
  }
 },
 "nbformat": 4,
 "nbformat_minor": 2
}
