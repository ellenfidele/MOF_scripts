{
 "cells": [
  {
   "cell_type": "code",
   "execution_count": 1,
   "metadata": {},
   "outputs": [],
   "source": [
    "import numpy as np\n",
    "import networkx as nx\n",
    "import pandas as pd\n",
    "import biopandas.pdb as ppdb\n",
    "import itertools as it\n",
    "import scipy.spatial.distance as sp\n",
    "import matplotlib.pyplot as plt\n",
    "from mpl_toolkits.mplot3d import Axes3D\n",
    "%matplotlib notebook\n",
    "# %config InlineBackend.figure_format='svg'"
   ]
  },
  {
   "cell_type": "code",
   "execution_count": 2,
   "metadata": {},
   "outputs": [],
   "source": [
    "# input_pdb = \"../UFF/MOF_structure/two_layers.new_resid.box.pdb\"\n",
    "# output_top = \"../UFF/MOF_structure/two_layers.new_resid.box.top\"\n",
    "\n",
    "input_pdb = \"../structures/mof74_unit_112_final.pdb\"\n",
    "output_top = \"mof74_unit_112_final.itp\""
   ]
  },
  {
   "cell_type": "code",
   "execution_count": 3,
   "metadata": {},
   "outputs": [],
   "source": [
    "params = '../UFF/UFFparams.newname.txt'"
   ]
  },
  {
   "cell_type": "code",
   "execution_count": 4,
   "metadata": {},
   "outputs": [],
   "source": [
    "# special_bond = tuple(['UC2', 'UO2'])\n",
    "special_angle = tuple(['UO2', 'Mg6', 'UO2'])\n",
    "special_dihedral = tuple(['UCR', 'UCR', 'UO2', 'Mg6'])"
   ]
  },
  {
   "cell_type": "markdown",
   "metadata": {},
   "source": [
    "Read parameter file"
   ]
  },
  {
   "cell_type": "code",
   "execution_count": 5,
   "metadata": {},
   "outputs": [],
   "source": [
    "bond_func = 1\n",
    "angle_func = 2\n",
    "dihedral_func = 1\n",
    "improp_dihedralfunc = 2"
   ]
  },
  {
   "cell_type": "code",
   "execution_count": 6,
   "metadata": {},
   "outputs": [],
   "source": [
    "params_df = pd.read_csv(params, sep='\\s+', header = None)"
   ]
  },
  {
   "cell_type": "code",
   "execution_count": 7,
   "metadata": {},
   "outputs": [],
   "source": [
    "atomtypes_params = params_df.loc[params_df[0] == 'atomtypes']\n",
    "atomtypes_params.columns = ['atomtypes', 'name', 'bondtype','at.num', 'mass', 'charge', 'ptype', 'sigma', 'epsilon']\n",
    "\n",
    "bondtypes_params = params_df.loc[params_df[0] == 'bondtypes'].loc[:,'0':'3']\n",
    "bondtypes_params.columns = ['bondtypes', 'i', 'j', 'kb']\n",
    "\n",
    "angletypes_params = params_df.loc[params_df[0] == 'angletypes'].loc[:,'0':'4']\n",
    "angletypes_params.columns = ['angletypes', 'i', 'j', 'k', 'cth']\n",
    "\n",
    "dihedraltypes_params = params_df.loc[params_df[0] == 'dihedraltypes'].loc[:,'0':'6']\n",
    "dihedraltypes_params.columns = ['dihedratypes', 'i', 'j', 'k', 'l',  'kd', 'pn']\n",
    "\n",
    "impropdihedraltypes_params = params_df.loc[params_df[0] == 'improperdihedraltypes'].loc[:,'0':'5']\n",
    "impropdihedraltypes_params.columns = ['improperdihedraltypes', 'i', 'j', 'k', 'l',  'kd']"
   ]
  },
  {
   "cell_type": "code",
   "execution_count": 8,
   "metadata": {},
   "outputs": [],
   "source": [
    "atom_name_type_dic = {}\n",
    "for i, n in atomtypes_params.iterrows():\n",
    "    atom_name_type_dic[n['name']] = n['bondtype']"
   ]
  },
  {
   "cell_type": "code",
   "execution_count": 10,
   "metadata": {},
   "outputs": [],
   "source": [
    "bondtype_dic = {}\n",
    "single_bondtype_dic = {'func': '', 'kb':''}\n",
    "for i, n in bondtypes_params.iterrows():\n",
    "    single_bondtype_dic = {'func': bond_func, 'kb':n['kb']}\n",
    "    if (n['i'], n['j']) in bondtype_dic.keys():\n",
    "        bondtype_dic[(n['i'], n['j'])] = [bondtype_dic[(n['i'], n['j'])], single_bondtype_dic]\n",
    "    else:\n",
    "        bondtype_dic[(n['i'], n['j'])] = single_bondtype_dic"
   ]
  },
  {
   "cell_type": "code",
   "execution_count": 11,
   "metadata": {},
   "outputs": [],
   "source": [
    "angletype_dic = {}\n",
    "single_angletype_dic = {'func':'', 'cth':''}\n",
    "for i, n in angletypes_params.iterrows():\n",
    "    single_angletype_dic = {'func':angle_func, 'cth':n['cth']}\n",
    "    if (n['i'], n['j'], n['k']) in angletype_dic.keys():\n",
    "        angletype_dic[(n['i'], n['j'], n['k'])] = [angletype_dic[(n['i'], n['j'], n['k'])], single_angletype_dic]\n",
    "    else:\n",
    "        angletype_dic[(n['i'], n['j'], n['k'])] = single_angletype_dic"
   ]
  },
  {
   "cell_type": "code",
   "execution_count": 12,
   "metadata": {
    "scrolled": true
   },
   "outputs": [],
   "source": [
    "dihedraltype_dic = {}\n",
    "single_dihedraltype_dic = {'func':'', 'kd':'', 'pn':''}\n",
    "for i, n in dihedraltypes_params.iterrows():\n",
    "    single_dihedraltype_dic = {'func':dihedral_func, 'kd':n['kd'], 'pn':n['pn']}\n",
    "    if (n['i'], n['j'], n['k'], n['l']) in dihedraltype_dic.keys():\n",
    "        dihedraltype_dic[(n['i'], n['j'], n['k'], n['l'])] = [dihedraltype_dic[(n['i'], n['j'], n['k'], n['l'])], single_dihedraltype_dic]\n",
    "    else:\n",
    "        dihedraltype_dic[(n['i'], n['j'], n['k'], n['l'])] = single_dihedraltype_dic"
   ]
  },
  {
   "cell_type": "code",
   "execution_count": 13,
   "metadata": {},
   "outputs": [],
   "source": [
    "improp_dihedraltype_dic = {}\n",
    "for i, n in impropdihedraltypes_params.iterrows():\n",
    "    single_dihedraltype_dic = {'func':improp_dihedralfunc, 'kd':n['kd']}\n",
    "    if (n['i'], n['j'], n['k'], n['l']) in improp_dihedraltype_dic.keys():\n",
    "        improp_dihedraltype_dic[(n['i'], n['j'], n['k'], n['l'])] = [improp_dihedraltype_dic[(n['i'], n['j'], n['k'], n['l'])], single_dihedraltype_dic]\n",
    "    else:\n",
    "        improp_dihedraltype_dic[(n['i'], n['j'], n['k'], n['l'])] = single_dihedraltype_dic"
   ]
  },
  {
   "cell_type": "markdown",
   "metadata": {},
   "source": [
    "Read pdb file"
   ]
  },
  {
   "cell_type": "code",
   "execution_count": 14,
   "metadata": {},
   "outputs": [
    {
     "data": {
      "text/plain": [
       "<biopandas.pdb.pandas_pdb.PandasPdb at 0xa1d2f8e48>"
      ]
     },
     "execution_count": 14,
     "metadata": {},
     "output_type": "execute_result"
    }
   ],
   "source": [
    "pdbin = ppdb.PandasPdb()\n",
    "pdbin.read_pdb(input_pdb)"
   ]
  },
  {
   "cell_type": "code",
   "execution_count": 15,
   "metadata": {},
   "outputs": [],
   "source": [
    "d_coords = pdbin.df['ATOM']"
   ]
  },
  {
   "cell_type": "code",
   "execution_count": 16,
   "metadata": {
    "scrolled": true
   },
   "outputs": [],
   "source": [
    "d_coords['bondtype'] = \"\"\n",
    "d_coords['mass'] = \"\"\n",
    "d_coords['charge'] = \"\"\n",
    "for i, n in d_coords.iterrows():\n",
    "    d_coords.at[i,'bondtype'] = atom_name_type_dic[d_coords.iloc[i]['atom_name']]\n",
    "    d_coords.at[i,'mass'] = atomtypes_params.loc[atomtypes_params['bondtype'] == d_coords.iloc[i]['bondtype']]['mass'].values[0]\n",
    "    d_coords.at[i,'charge'] = atomtypes_params.loc[atomtypes_params['bondtype'] == d_coords.iloc[i]['bondtype']]['charge'].values[0]"
   ]
  },
  {
   "cell_type": "code",
   "execution_count": 17,
   "metadata": {},
   "outputs": [],
   "source": [
    "coords = d_coords[['x_coord', 'y_coord', 'z_coord']].values"
   ]
  },
  {
   "cell_type": "code",
   "execution_count": 18,
   "metadata": {},
   "outputs": [],
   "source": [
    "dist = np.sqrt(np.sum((coords[:,None,:]-coords[None,:,:])**2, axis=2))"
   ]
  },
  {
   "cell_type": "markdown",
   "metadata": {},
   "source": [
    "Generate network graphics for the connections in MOF"
   ]
  },
  {
   "cell_type": "code",
   "execution_count": 19,
   "metadata": {},
   "outputs": [],
   "source": [
    "G = nx.Graph()"
   ]
  },
  {
   "cell_type": "code",
   "execution_count": 20,
   "metadata": {},
   "outputs": [],
   "source": [
    "for i in range(len(d_coords)):\n",
    "    for j in range(i, len(d_coords)):\n",
    "        if 'Mg' in [d_coords.loc[i,'element_symbol'], d_coords.loc[j,'element_symbol']] and dist[i][j]<2.2 and dist[i][j]>0:\n",
    "            G.add_edge(d_coords.loc[i].atom_number, d_coords.loc[j].atom_number)\n",
    "        elif dist[i][j]<1.8 and dist[i][j]>0:\n",
    "            G.add_edge(d_coords.loc[i].atom_number, d_coords.loc[j].atom_number)"
   ]
  },
  {
   "cell_type": "code",
   "execution_count": 22,
   "metadata": {},
   "outputs": [],
   "source": [
    "bond_temp = []\n",
    "for i in G.edges():\n",
    "    bond_temp.append([i[0],i[1]])\n",
    "bond_df = pd.DataFrame(bond_temp)"
   ]
  },
  {
   "cell_type": "code",
   "execution_count": 23,
   "metadata": {},
   "outputs": [],
   "source": [
    "angle_temp = []\n",
    "for n in G.nodes():\n",
    "#     for neigh in  G.neighbors(n):\n",
    "#         print(neigh)\n",
    "    l = list(it.combinations(G.neighbors(n),2))\n",
    "    if l:\n",
    "        for item in l:\n",
    "            angle_temp.append([item[0], n, item[1]])\n",
    "#             print(item[0], n, item[1])\n",
    "#             G.add_path([l[0], n, l[1]])\n",
    "angle_df = pd.DataFrame(angle_temp)"
   ]
  },
  {
   "cell_type": "code",
   "execution_count": 24,
   "metadata": {},
   "outputs": [],
   "source": [
    "dihedral_temp = []\n",
    "pairs_temp = []\n",
    "for n1 in G.nodes():\n",
    "    list_n2 = [x for x in G.neighbors(n1) if d_coords.loc[d_coords['atom_number'].values==x].element_symbol.values!='Mg']\n",
    "#     print(list_1)\n",
    "    for n2 in list_n2:\n",
    "        list_n3 = [x for x in G.neighbors(n2) if d_coords.loc[d_coords['atom_number'].values==x].element_symbol.values!='Mg' and x != n1]\n",
    "        for n3 in list_n3:\n",
    "            list_n4 = [x for x in G.neighbors(n3) if x !=n1 and x!=n2]\n",
    "            for n4 in list_n4:\n",
    "                dih = [n1, n2, n3, n4]\n",
    "                if dih.reverse() not in dihedral_temp:\n",
    "                    dihedral_temp.append([n1, n2, n3, n4])\n",
    "                    pairs_temp.append([n1, n4])\n",
    "#                     print(n1, n2, n3, n4)\n",
    "# #                     dihedral_temp.append([n1, n2, n3, n4])\n",
    "dihedral_df = pd.DataFrame(dihedral_temp)\n",
    "pairs_df = pd.DataFrame(pairs_temp)"
   ]
  },
  {
   "cell_type": "code",
   "execution_count": 26,
   "metadata": {},
   "outputs": [],
   "source": [
    "def add_improper(n1, n2, n3, n4, temp_list):\n",
    "    temp_list.append([n1, n2, n3, n4])\n",
    "    temp_list.append([n1, n3, n2, n4])\n",
    "    temp_list.append([n1, n3, n4, n2])"
   ]
  },
  {
   "cell_type": "code",
   "execution_count": 27,
   "metadata": {},
   "outputs": [],
   "source": [
    "def find_improper(at1, at2, at3, at4, G, coords_df, out_list):\n",
    "    for i, n1 in coords_df.loc[coords_df['atom_name'] == at1].iterrows():\n",
    "        list_n = [x for x in G.neighbors(n1['atom_number'])]\n",
    "        for i in list_n:\n",
    "            if coords_df.iloc[i-1]['atom_name'] == at2:\n",
    "                n2 = i\n",
    "            elif coords_df.iloc[i-1]['atom_name'] == at3:\n",
    "                n3 = i\n",
    "            elif coords_df.iloc[i-1]['atom_name'] == at4:\n",
    "                n4 = i\n",
    "        add_improper(n1['atom_number'], n2, n3, n4, out_list)"
   ]
  },
  {
   "cell_type": "code",
   "execution_count": 28,
   "metadata": {},
   "outputs": [],
   "source": [
    "improp_dihedral_temp = []    \n",
    "\n",
    "find_improper('C2', 'C1', 'C3', 'C4', G, d_coords, improp_dihedral_temp)\n",
    "find_improper('C1', 'C2', 'O1', 'O2', G, d_coords, improp_dihedral_temp)\n",
    "find_improper('C4', 'O3', 'C2', 'C3', G, d_coords, improp_dihedral_temp)\n",
    "find_improper('C3', 'C4', 'C2', 'H1', G, d_coords, improp_dihedral_temp)\n",
    "improp_dihedral_df = pd.DataFrame(improp_dihedral_temp)"
   ]
  },
  {
   "cell_type": "code",
   "execution_count": 29,
   "metadata": {},
   "outputs": [],
   "source": [
    "def get_angle(A, B, C):\n",
    "    ba = np.array(A) - np.array(B)\n",
    "    bc = np.array(C) - np.array(B)\n",
    "    \n",
    "    cosine_angle = np.dot(ba,bc)/(np.linalg.norm(ba)*np.linalg.norm(bc))\n",
    "    angle = np.arccos(cosine_angle)\n",
    "    \n",
    "    return np.degrees(angle)"
   ]
  },
  {
   "cell_type": "markdown",
   "metadata": {},
   "source": [
    "Assign parameters for bond/angle/dihedral/improper dihedral"
   ]
  },
  {
   "cell_type": "code",
   "execution_count": 30,
   "metadata": {},
   "outputs": [],
   "source": [
    "def add_bond_params(functype, distance, kb, bond_df, i):\n",
    "    bond_df.at[i, 'func'] = functype\n",
    "    bond_df.at[i, 'b0'] = distance\n",
    "    bond_df.at[i, 'kb'] = kb"
   ]
  },
  {
   "cell_type": "code",
   "execution_count": 31,
   "metadata": {
    "scrolled": true
   },
   "outputs": [],
   "source": [
    "for i in ['func', 'b0', 'kb']:\n",
    "    bond_df[i] = ''\n",
    "for i, n in bond_df.iterrows():\n",
    "#     print(i, n[0], n[1])\n",
    "    atomA = d_coords.iloc[n[0]-1]['atom_name']\n",
    "    atomB = d_coords.iloc[n[1]-1]['atom_name']\n",
    "    key_pair = tuple([atom_name_type_dic[atomA], atom_name_type_dic[atomB]])\n",
    "    distance = dist[n[0]-1, n[1]-1]\n",
    "#     if key_pair == special_bond or key_pair[::-1] == special_bond:\n",
    "#             if 'O1' in [atomA, atomB]:\n",
    "#                 kb = max([float(bondtype_dic[special_bond][0]['kb']),float(bondtype_dic[special_bond][1]['kb']) ])\n",
    "#             else:\n",
    "#                 kb = min([float(bondtype_dic[special_bond][0]['kb']),float(bondtype_dic[special_bond][1]['kb']) ])\n",
    "#             add_bond_params(bond_func, distance, kb, bond_df, i)\n",
    "    if key_pair in bondtype_dic.keys():\n",
    "        add_bond_params(bond_func, distance, bondtype_dic[key_pair]['kb'], bond_df, i)\n",
    "    elif key_pair[::-1] in bondtype_dic.keys():\n",
    "        add_bond_params(bond_func, distance, bondtype_dic[key_pair[::-1]]['kb'], bond_df, i)\n",
    "    else:\n",
    "        raise Exception('bondtype %s-%s not fond in parameter file' %(d_coords.iloc[n[0]]['bondtype'], d_coords.iloc[n[1]]['bondtype']))\n"
   ]
  },
  {
   "cell_type": "code",
   "execution_count": 32,
   "metadata": {},
   "outputs": [],
   "source": [
    "def add_angle_params(func, th0, cth, angle_df, i):\n",
    "    angle_df.at[i, 'func'] = func\n",
    "    angle_df.at[i, 'th0'] = th0\n",
    "    angle_df.at[i, 'cth'] = cth"
   ]
  },
  {
   "cell_type": "code",
   "execution_count": 33,
   "metadata": {
    "scrolled": true
   },
   "outputs": [],
   "source": [
    "for i in ['func', 'th0', 'cth']:\n",
    "    angle_df[i] = ''\n",
    "\n",
    "for i, n in angle_df.iterrows():\n",
    "    key = tuple([d_coords.iloc[n[0]-1]['bondtype'], d_coords.iloc[n[1]-1]['bondtype'], d_coords.iloc[n[2]-1]['bondtype']])\n",
    "    A_atom = d_coords.iloc[n[0]-1]['x_coord':'z_coord']\n",
    "    B_atom = d_coords.iloc[n[1]-1]['x_coord':'z_coord']\n",
    "    C_atom = d_coords.iloc[n[2]-1]['x_coord':'z_coord']\n",
    "    angle_ijk = get_angle(A_atom, B_atom, C_atom)\n",
    "    if key == special_angle or key[::-1] == special_angle:\n",
    "        if angle_ijk < 145:\n",
    "            cth = max([float(angletype_dic[special_angle][0]['cth']),float(angletype_dic[special_angle][1]['cth']) ])\n",
    "        else:\n",
    "            cth = min([float(angletype_dic[special_angle][0]['cth']),float(angletype_dic[special_angle][1]['cth']) ])\n",
    "        add_angle_params(angle_func, angle_ijk, cth, angle_df, i)\n",
    "    elif key in angletype_dic.keys():\n",
    "        add_angle_params(angle_func, angle_ijk, angletype_dic[key]['cth'], angle_df, i)\n",
    "    elif key[::-1] in angletype_dic.keys():\n",
    "        add_angle_params(angle_func, angle_ijk, angletype_dic[key[::-1]]['cth'], angle_df, i)\n",
    "    else:\n",
    "        raise Exception('angletype %s-%s-%s not fond in parameter file' %(d_coords.iloc[n[0]-1]['bondtype'], d_coords.iloc[n[1]-1]['bondtype'], d_coords.iloc[n[2]-1]['bondtype']))\n",
    "        "
   ]
  },
  {
   "cell_type": "code",
   "execution_count": 34,
   "metadata": {},
   "outputs": [],
   "source": [
    "def get_dihedral(A, B, C, D):\n",
    "    r0 = A - B\n",
    "    r1 = C - B\n",
    "    r2 = D - C\n",
    "    \n",
    "    r1 /= np.linalg.norm(r1)\n",
    "    v = r0 - np.dot(r0, r1)*r1\n",
    "    w = r2 - np.dot(r2, r1)*r1\n",
    "    \n",
    "    x = np.dot(v, w)\n",
    "    y = np.dot(np.cross(r1, v), w)\n",
    "    \n",
    "    return np.degrees(np.arctan2(y, x))"
   ]
  },
  {
   "cell_type": "code",
   "execution_count": 35,
   "metadata": {},
   "outputs": [],
   "source": [
    "def get_coords(df, i):\n",
    "    return np.array([float(df.iloc[i]['x_coord']), float(df.iloc[i]['y_coord']), float(df.iloc[i]['z_coord'])])"
   ]
  },
  {
   "cell_type": "code",
   "execution_count": 36,
   "metadata": {},
   "outputs": [],
   "source": [
    "def add_dihedral_params(func, phase, kd, pn, df, i):\n",
    "    df.at[i, 'func'] = func\n",
    "    df.at[i, 'phase'] = phase\n",
    "    df.at[i, 'kd'] = kd\n",
    "    df.at[i, 'pn'] = pn"
   ]
  },
  {
   "cell_type": "code",
   "execution_count": 37,
   "metadata": {},
   "outputs": [],
   "source": [
    "\n",
    "for i in ['func', 'phase', 'kd', 'pn']:\n",
    "    dihedral_df[i] = ''\n",
    "for i, n in dihedral_df.iterrows():\n",
    "    key = tuple([d_coords.iloc[n[0]-1]['bondtype'], d_coords.iloc[n[1]-1]['bondtype'], d_coords.iloc[n[2]-1]['bondtype'], d_coords.iloc[n[3]-1]['bondtype']])\n",
    "    A_atom = get_coords(d_coords, n[0]-1)\n",
    "    B_atom = get_coords(d_coords, n[1]-1)\n",
    "    C_atom = get_coords(d_coords, n[2]-1)\n",
    "    D_atom = get_coords(d_coords, n[3]-1)\n",
    "    dih = get_dihedral(np.array(A_atom), np.array(B_atom), np.array(C_atom), np.array(D_atom))\n",
    "    if key == special_dihedral or key[::-1] == special_dihedral:\n",
    "        if abs(np.sin(dih*np.pi/180)) < 0.75:\n",
    "            kd = max([float(dihedraltype_dic[special_dihedral][0]['kd']), float(dihedraltype_dic[special_dihedral][1]['kd'])])\n",
    "        else:\n",
    "            kd = min([float(dihedraltype_dic[special_dihedral][0]['kd']), float(dihedraltype_dic[special_dihedral][1]['kd'])])\n",
    "        add_dihedral_params(dihedral_func, dih, kd, dihedraltype_dic[special_dihedral][0]['pn'], dihedral_df, i)\n",
    "    elif key in dihedraltype_dic.keys():\n",
    "        add_dihedral_params(dihedral_func, dih, dihedraltype_dic[key]['kd'], dihedraltype_dic[key]['pn'], dihedral_df, i)\n",
    "    elif key[::-1] in dihedraltype_dic.keys():\n",
    "        add_dihedral_params(dihedral_func, dih, dihedraltype_dic[key[::-1]]['kd'], dihedraltype_dic[key[::-1]]['pn'], dihedral_df, i)\n",
    "    else:\n",
    "        raise Exception('dihedraltype %s-%s-%s-%s not fond in parameter file' %(d_coords.iloc[n[0]-1]['bondtype'], d_coords.iloc[n[1]-1]['bondtype'], d_coords.iloc[n[2]-1]['bondtype'], d_coords.iloc[n[3]-1]['bondtype']))       "
   ]
  },
  {
   "cell_type": "code",
   "execution_count": 38,
   "metadata": {},
   "outputs": [],
   "source": [
    "def add_improperdihedral_params(func, phase, kd, df, i):\n",
    "    df.at[i, 'func'] = func\n",
    "    df.at[i, 'phase'] = phase\n",
    "    df.at[i, 'kd'] = kd"
   ]
  },
  {
   "cell_type": "code",
   "execution_count": 39,
   "metadata": {},
   "outputs": [],
   "source": [
    "for i in ['func', 'phase', 'kd']:\n",
    "    improp_dihedral_df[i] = ''\n",
    "for i, n in improp_dihedral_df.iterrows():\n",
    "    key = tuple([d_coords.iloc[n[0]-1]['bondtype'], d_coords.iloc[n[1]-1]['bondtype'], d_coords.iloc[n[2]-1]['bondtype'], d_coords.iloc[n[3]-1]['bondtype']])\n",
    "    A_atom = get_coords(d_coords, n[0]-1)\n",
    "    B_atom = get_coords(d_coords, n[1]-1)\n",
    "    C_atom = get_coords(d_coords, n[2]-1)\n",
    "    D_atom = get_coords(d_coords, n[3]-1)\n",
    "    dih = get_dihedral(np.array(A_atom), np.array(B_atom), np.array(C_atom), np.array(D_atom))\n",
    "    if dih < 10:\n",
    "        dih = 0.0\n",
    "    else:\n",
    "        raise Exception('improper dihedral angle too large: %5.3f' %dih)\n",
    "    if key in improp_dihedraltype_dic.keys():\n",
    "        add_improperdihedral_params(improp_dihedralfunc, dih, improp_dihedraltype_dic[key]['kd'], improp_dihedral_df, i)\n",
    "    else:\n",
    "        raise Exception('dihedraltype %s-%s-%s-%s not fond in parameter file' %(d_coords.iloc[n[0]-1]['bondtype'], d_coords.iloc[n[1]-1]['bondtype'], d_coords.iloc[n[2]-1]['bondtype'], d_coords.iloc[n[3]-1]['bondtype']))       "
   ]
  },
  {
   "cell_type": "markdown",
   "metadata": {},
   "source": [
    "Assemble top file"
   ]
  },
  {
   "cell_type": "code",
   "execution_count": 40,
   "metadata": {
    "scrolled": true
   },
   "outputs": [],
   "source": [
    "with open(output_top, 'w') as top:\n",
    "    print('[ moleculetype ]\\n; Name       nrexcl\\nMOF    3\\n', file = top)\n",
    "\n",
    "#     print('[ atomtypes ]\\n; name  bond_type    mass    charge   ptype          sigma      epsilon', file = top)\n",
    "#     for i, n in atomtypes_params.iterrows():\n",
    "#         print('{:4s} {:9s}{:>3d}{:>13.4f}{:>12.4f}     {:2s}    {:11e}  {:11e}'.format(\n",
    "#             n['name'], n['bondtype'],int(n['at.num']),float(n['mass']),float(n['charge']),n['ptype'], float(n['sigma']), float(n['epsilon'])), file=top)\n",
    "\n",
    "    print('\\n[ atoms ]\\n; nr type  resnr    residue    atom     cgnr    charge       mass', file = top)\n",
    "    for i, n in d_coords.iterrows():\n",
    "        print('{:>7d}{:>11s}{:>7d}{:>7s}{:>7s}{:>7d}{:>11.4f}{:>11.4f}'.format(\n",
    "            int(n['atom_number']), n['bondtype'], int(n['residue_number']), n['residue_name'], n['atom_name'],\n",
    "            int(n['atom_number']), float(n['charge']), float(n['mass'])), file = top)\n",
    "\n",
    "    print('\\n[ bonds ]\\n; i  j  func  b0  kb', file=top)\n",
    "    for i, n in bond_df.iterrows():\n",
    "        print('{:>7d}{:>7d}{:>7d}{:>11.4f}  {:>11.4f}'.format(\n",
    "            int(n[0]), int(n[1]), int(n['func']), float(n['b0']*0.1), float(n['kb'])), file=top)\n",
    "\n",
    "    print('\\n[ angles ]\\n; i  j  k  func  th0  cth', file = top)\n",
    "    for i, n in angle_df.iterrows():\n",
    "        print('{:>7d}{:>7d}{:>7d}{:>7d}{:>11.1f}  {:>11.4f}'.format(\n",
    "            int(n[0]), int(n[1]), int(n[2]), int(n['func']), float(n['th0']), float(n['cth'])), file = top)\n",
    "\n",
    "    print('\\n[ dihedrals ]\\n; i  j  k  l  func  phase  kd  pn', file = top)\n",
    "    for i, n in dihedral_df.iterrows():\n",
    "        print('{:>7d}{:>7d}{:>7d}{:>7d}{:>7d}{:>11.4f}  {:>11.4f}{:>7d}'.format(\n",
    "            int(n[0]), int(n[1]), int(n[2]), int(n[3]), int(n['func']), float(n['phase']), float(n['kd']), int(n['pn'])), file = top)\n",
    "\n",
    "    print('\\n[ dihedrals ]\\n; improper dihedrals\\n; i  j  k  l  func  phase  kd', file = top)\n",
    "    for i, n in improp_dihedral_df.iterrows():\n",
    "        print('{:>7d}{:>7d}{:>7d}{:>7d}{:>7d}{:>11.4f}  {:>11.4f}'.format(\n",
    "            int(n[0]), int(n[1]), int(n[2]), int(n[3]), int(n['func']), float(n['phase']), float(n['kd'])), file = top)\n",
    "        \n",
    "    print('\\n[ pairs ]\\n', file=top)\n",
    "    for i, n in pairs_df.iterrows():\n",
    "        print('{:>7d}{:>7d}'.format(int(n[0]), int(n[1])), file = top)"
   ]
  },
  {
   "cell_type": "code",
   "execution_count": null,
   "metadata": {},
   "outputs": [],
   "source": []
  }
 ],
 "metadata": {
  "kernelspec": {
   "display_name": "Python 3",
   "language": "python",
   "name": "python3"
  },
  "language_info": {
   "codemirror_mode": {
    "name": "ipython",
    "version": 3
   },
   "file_extension": ".py",
   "mimetype": "text/x-python",
   "name": "python",
   "nbconvert_exporter": "python",
   "pygments_lexer": "ipython3",
   "version": "3.6.8"
  }
 },
 "nbformat": 4,
 "nbformat_minor": 2
}
